{
  "nbformat": 4,
  "nbformat_minor": 0,
  "metadata": {
    "colab": {
      "provenance": [],
      "authorship_tag": "ABX9TyNpPhJOhXp0IRA4gtIDdCzF",
      "include_colab_link": true
    },
    "kernelspec": {
      "name": "python3",
      "display_name": "Python 3"
    },
    "language_info": {
      "name": "python"
    }
  },
  "cells": [
    {
      "cell_type": "markdown",
      "metadata": {
        "id": "view-in-github",
        "colab_type": "text"
      },
      "source": [
        "<a href=\"https://colab.research.google.com/github/nimondungu/Gaussian_Class/blob/main/Timing_Code.ipynb\" target=\"_parent\"><img src=\"https://colab.research.google.com/assets/colab-badge.svg\" alt=\"Open In Colab\"/></a>"
      ]
    },
    {
      "cell_type": "code",
      "source": [
        "def adjust_results4_isadog(results_dic, dogfile):\n",
        "    \"\"\"\n",
        "    Adjusts the results dictionary to determine if classifier correctly\n",
        "    classified images 'as a dog' or 'not a dog' especially when not a match.\n",
        "    Demonstrates if model architecture correctly classifies dog images even if\n",
        "    it gets dog breed wrong (not a match).\n",
        "    Parameters:\n",
        "      results_dic - Dictionary with 'key' as image filename and 'value' as a\n",
        "                    List. Where the list will contain the following items:\n",
        "                  index 0 = pet image label (string)\n",
        "                  index 1 = classifier label (string)\n",
        "                  index 2 = 1/0 (int)  where 1 = match between pet image\n",
        "                    and classifer labels and 0 = no match between labels\n",
        "                ------ where index 3 & index 4 are added by this function -----\n",
        "                 NEW - index 3 = 1/0 (int)  where 1 = pet image 'is-a' dog and\n",
        "                            0 = pet Image 'is-NOT-a' dog.\n",
        "                 NEW - index 4 = 1/0 (int)  where 1 = Classifier classifies image\n",
        "                            'as-a' dog and 0 = Classifier classifies image\n",
        "                            'as-NOT-a' dog.\n",
        "     dogfile - A text file that contains names of all dogs from the classifier\n",
        "               function and dog names from the pet image files. This file has\n",
        "               one dog name per line dog names are all in lowercase with\n",
        "               spaces separating the distinct words of the dog name. Dog names\n",
        "               from the classifier function can be a string of dog names separated\n",
        "               by commas when a particular breed of dog has multiple dog names\n",
        "               associated with that breed (ex. maltese dog, maltese terrier,\n",
        "               maltese) (string - indicates text file's filename)\n",
        "    Returns:\n",
        "           None - results_dic is mutable data type so no return needed.\n",
        "    \"\"\"\n",
        "    # Read the dog names from the dogfile and store them in a set for efficient lookup\n",
        "    with open(dogfile, 'r') as file:\n",
        "        dog_names = set(file.read().strip().splitlines())\n",
        "\n",
        "    # Iterate through the results_dic and adjust the entries for 'is-a-dog' or 'is-NOT-a-dog'\n",
        "    for key in results_dic:\n",
        "        pet_label = results_dic[key][3]\n",
        "        classifier_label = results_dic[key][4]\n",
        "\n",
        "        # Check if the pet label is of-a-dog and update the results_dic\n",
        "        results_dic[key].append(1 if pet_label in dog_names else 0)\n",
        "\n",
        "        # Check if the classifier label is of-a-dog and update the results_dic\n",
        "        results_dic[key].append(1 if any(label in dog_names for label in classifier_label.split(', ')) else 0)"
      ],
      "metadata": {
        "id": "gv2kyEc09Van"
      },
      "execution_count": 2,
      "outputs": []
    }
  ]
}