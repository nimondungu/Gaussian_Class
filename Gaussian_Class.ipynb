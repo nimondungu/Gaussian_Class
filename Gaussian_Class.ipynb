{
  "nbformat": 4,
  "nbformat_minor": 0,
  "metadata": {
    "colab": {
      "provenance": [],
      "authorship_tag": "ABX9TyNrRpknM9boiRxHZFIK39Jv",
      "include_colab_link": true
    },
    "kernelspec": {
      "name": "python3",
      "display_name": "Python 3"
    },
    "language_info": {
      "name": "python"
    }
  },
  "cells": [
    {
      "cell_type": "markdown",
      "metadata": {
        "id": "view-in-github",
        "colab_type": "text"
      },
      "source": [
        "<a href=\"https://colab.research.google.com/github/nimondungu/Gaussian_Class/blob/main/Gaussian_Class.ipynb\" target=\"_parent\"><img src=\"https://colab.research.google.com/assets/colab-badge.svg\" alt=\"Open In Colab\"/></a>"
      ]
    },
    {
      "cell_type": "code",
      "execution_count": 1,
      "metadata": {
        "id": "FUX1APrN4Fvr"
      },
      "outputs": [],
      "source": [
        "import math\n",
        "\n",
        "class Gaussian:\n",
        "    def __init__(self, mu, sigma):\n",
        "        self.mu = mu\n",
        "        self.sigma = sigma\n",
        "\n",
        "    def __repr__(self):\n",
        "        return f\"Gaussian(mu={self.mu}, sigma={self.sigma})\"\n",
        "\n",
        "    def __str__(self):\n",
        "        return f\"Mean: {self.mu}, Standard Deviation: {self.sigma}\"\n",
        "\n",
        "    def pdf(self, x):\n",
        "        coefficient = 1.0 / (math.sqrt(2 * math.pi) * self.sigma)\n",
        "        exponent = math.exp(-0.5 * ((x - self.mu) / self.sigma) ** 2)\n",
        "        return coefficient * exponent\n",
        "\n",
        "    def mean(self):\n",
        "        return self.mu\n",
        "\n",
        "    def stdev(self):\n",
        "        return self.sigma\n",
        "\n",
        "    def add(self, other):\n",
        "        new_mu = self.mu + other.mu\n",
        "        new_sigma = math.sqrt(self.sigma**2 + other.sigma**2)\n",
        "        return Gaussian(new_mu, new_sigma)\n"
      ]
    },
    {
      "cell_type": "code",
      "source": [
        "# Create two Gaussian distributions\n",
        "gaussian1 = Gaussian(0, 1)\n",
        "gaussian2 = Gaussian(2, 3)\n",
        "\n",
        "# Print the distributions\n",
        "print(gaussian1)\n",
        "print(gaussian2)\n",
        "\n",
        "# Calculate the probability density function at x=1\n",
        "pdf_value = gaussian1.pdf(1)\n",
        "print(f\"PDF value at x=1: {pdf_value}\")\n",
        "\n",
        "# Perform addition of the two distributions\n",
        "sum_gaussian = gaussian1.add(gaussian2)\n",
        "print(f\"Sum of the two distributions: {sum_gaussian}\")\n"
      ],
      "metadata": {
        "colab": {
          "base_uri": "https://localhost:8080/"
        },
        "id": "Ox42lis56Xfj",
        "outputId": "7f647c3e-bea3-489d-cd51-65d2c6a005eb"
      },
      "execution_count": 2,
      "outputs": [
        {
          "output_type": "stream",
          "name": "stdout",
          "text": [
            "Mean: 0, Standard Deviation: 1\n",
            "Mean: 2, Standard Deviation: 3\n",
            "PDF value at x=1: 0.24197072451914337\n",
            "Sum of the two distributions: Mean: 2, Standard Deviation: 3.1622776601683795\n"
          ]
        }
      ]
    }
  ]
}